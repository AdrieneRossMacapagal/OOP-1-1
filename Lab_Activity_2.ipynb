{
  "nbformat": 4,
  "nbformat_minor": 0,
  "metadata": {
    "colab": {
      "provenance": [],
      "authorship_tag": "ABX9TyOEMp/pzrTfvwnesPtoCsfT",
      "include_colab_link": true
    },
    "kernelspec": {
      "name": "python3",
      "display_name": "Python 3"
    },
    "language_info": {
      "name": "python"
    }
  },
  "cells": [
    {
      "cell_type": "markdown",
      "metadata": {
        "id": "view-in-github",
        "colab_type": "text"
      },
      "source": [
        "<a href=\"https://colab.research.google.com/github/AdrieneRossMacapagal/OOP-1-1/blob/main/Lab_Activity_2.ipynb\" target=\"_parent\"><img src=\"https://colab.research.google.com/assets/colab-badge.svg\" alt=\"Open In Colab\"/></a>"
      ]
    },
    {
      "cell_type": "code",
      "execution_count": 1,
      "metadata": {
        "colab": {
          "base_uri": "https://localhost:8080/"
        },
        "id": "-pKwN6bbSNq9",
        "outputId": "e8dfc625-1db9-4d22-efb0-6b56166edadb"
      },
      "outputs": [
        {
          "output_type": "stream",
          "name": "stdout",
          "text": [
            "sum = 210\n",
            "Average =  10.5\n"
          ]
        }
      ],
      "source": [
        "#Problem 1.-------------------------\n",
        "n = 20\n",
        "total_numbers = n\n",
        "sum = 0\n",
        "\n",
        "while n >= 0:\n",
        "  sum += n\n",
        "  n -= 1\n",
        "print(\"sum =\", sum)\n",
        "\n",
        "average = sum / total_numbers\n",
        "print(\"Average = \", average)"
      ]
    },
    {
      "cell_type": "code",
      "source": [
        "#Problem 1.-------------------------\n",
        "#1------------------------\n",
        "Name = 'Adriene Ross A. Macapagal'\n",
        "Stud_No = 2212562\n",
        "Age = 20\n",
        "School = 'Our Lady of Fatima University'\n",
        "Course = 'BSCS'\n",
        "print(\"Name:\",Name,\"\\nStudent No.:\", Stud_No,\"\\nAge:\", Age,\"\\nCourse:\", Course, \"\\n\")\n",
        "#2------------------------\n",
        "class Student:\n",
        "  def __init__(self, Name, Stud_No, Age, School, Course):\n",
        "    self.Name = Name\n",
        "    self.Stud_No = Stud_No\n",
        "    self.Age = Age\n",
        "    self.School = School\n",
        "    self.Course = Course\n",
        "#4------------------------\n",
        "  def info(self):\n",
        "    print(\"\"+self.Name)\n",
        "    print(self.Stud_No)\n",
        "    print(self.Age)\n",
        "    print(\"\"+self.School)\n",
        "    print(\"\"+self.Course)\n",
        "#3------------------------\n",
        "Myself = Student(Name, Stud_No, Age, School, Course)\n",
        "#4------------------------\n",
        "Myself.info()"
      ],
      "metadata": {
        "colab": {
          "base_uri": "https://localhost:8080/"
        },
        "id": "NdXl4aKcZJqD",
        "outputId": "6d52e5e0-d5e3-4178-c0db-c78201757b9b"
      },
      "execution_count": 22,
      "outputs": [
        {
          "output_type": "stream",
          "name": "stdout",
          "text": [
            "Name: Adriene Ross A. Macapagal \n",
            "Student No.: 2212562 \n",
            "Age: 20 \n",
            "Course: BSCS \n",
            "\n",
            "Adriene Ross A. Macapagal\n",
            "2212562\n",
            "20\n",
            "Our Lady of Fatima University\n",
            "BSCS\n"
          ]
        }
      ]
    }
  ]
}